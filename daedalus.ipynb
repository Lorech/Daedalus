{
  "cells": [
    {
      "attachments": {},
      "cell_type": "markdown",
      "metadata": {
        "id": "5VRKl9Jin4DZ"
      },
      "source": [
        "# Setup"
      ]
    },
    {
      "attachments": {},
      "cell_type": "markdown",
      "metadata": {
        "id": "9waDUubjn895"
      },
      "source": [
        "## Pre-trained YOLOv3 model"
      ]
    },
    {
      "cell_type": "code",
      "execution_count": null,
      "metadata": {
        "colab": {
          "base_uri": "https://localhost:8080/"
        },
        "id": "j1qfQnjHn6TY",
        "outputId": "e38f1d1f-8a8b-4acd-b770-78ccf0b80ad5"
      },
      "outputs": [],
      "source": [
        "!gdown '1lRsd3j1yyG5wBDeQ2fB2PLNA29aKqEMu'\n",
        "!mkdir 'model'\n",
        "!mv 'yolo.h5' 'model/'"
      ]
    },
    {
      "attachments": {},
      "cell_type": "markdown",
      "metadata": {
        "id": "zi3_3WmooAkw"
      },
      "source": [
        "## 2017 COCO Val dataset"
      ]
    },
    {
      "cell_type": "code",
      "execution_count": null,
      "metadata": {
        "colab": {
          "base_uri": "https://localhost:8080/"
        },
        "id": "u063v6iBoF2m",
        "outputId": "2215ea0f-e5c2-41bd-cf65-6c4c1170f56d"
      },
      "outputs": [],
      "source": [
        "!wget 'http://images.cocodataset.org/zips/val2017.zip'\n",
        "!mkdir -p '../Datasets/COCO/val2017'\n",
        "!unzip -qq -d '../Datasets/COCO/' 'val2017.zip'\n",
        "!rm -rf 'val2017.zip'"
      ]
    },
    {
      "attachments": {},
      "cell_type": "markdown",
      "metadata": {
        "id": "9Z1sX2urpOCr"
      },
      "source": [
        "## CUDA 10.0"
      ]
    },
    {
      "cell_type": "code",
      "execution_count": null,
      "metadata": {
        "colab": {
          "base_uri": "https://localhost:8080/"
        },
        "id": "j3ZUHekdpSEl",
        "outputId": "50e90c25-de69-41bd-c636-f244873d70a9"
      },
      "outputs": [],
      "source": [
        "%env PYTHONPATH = # /env/python"
      ]
    },
    {
      "cell_type": "code",
      "execution_count": null,
      "metadata": {
        "id": "NnqZbAwTpXif"
      },
      "outputs": [],
      "source": [
        "!wget https://repo.anaconda.com/miniconda/Miniconda3-py38_4.12.0-Linux-x86_64.sh\n",
        "!chmod +x Miniconda3-py38_4.12.0-Linux-x86_64.sh\n",
        "!./Miniconda3-py38_4.12.0-Linux-x86_64.sh -b -f -p /usr/local\n",
        "!conda update conda -y\n",
        "!conda install -c conda-forge cudatoolkit=10.0 nvidia cuda-nvcc=11.3.58 cudnn=7.6.5 -y"
      ]
    },
    {
      "cell_type": "code",
      "execution_count": null,
      "metadata": {
        "id": "z64JwoRbpilx"
      },
      "outputs": [],
      "source": [
        "import sys\n",
        "sys.path.append('/usr/local/lib/python3.8/site-packages')"
      ]
    },
    {
      "cell_type": "code",
      "execution_count": null,
      "metadata": {},
      "outputs": [],
      "source": [
        "!apt-get update;\n",
        "!wget https://developer.nvidia.com/compute/cuda/10.0/Prod/local_installers/cuda-repo-ubuntu1604-10-0-local-10.0.130-410.48_1.0-1_amd64 -O cuda-repo-ubuntu1604-10-0-local-10.0.130-410.48_1.0-1_amd64.deb\n",
        "!dpkg -i cuda-repo-ubuntu1604-10-0-local-10.0.130-410.48_1.0-1_amd64.deb\n",
        "!sudo apt-key add /var/cuda-repo-10-0-local-10.0.130-410.48/7fa2af80.pub\n",
        "!apt-get update\n",
        "!apt-get -y install gcc-7 g++-7\n",
        "!apt-get -y install cuda=10.0.130-1\n",
        "\n",
        "!export PATH=/usr/local/cuda/bin${PATH:+:${PATH}}\n",
        "!export LD_LIBRARY_PATH=/usr/local/cuda/lib64\\${LD_LIBRARY_PATH:+:${LD_LIBRARY_PATH}}\n",
        "\n",
        "# Version check.\n",
        "!/usr/local/cuda/bin/nvcc --version"
      ]
    },
    {
      "cell_type": "code",
      "execution_count": null,
      "metadata": {
        "id": "LrKsz_vopk4F"
      },
      "outputs": [],
      "source": [
        "!conda create -n myenv python=3.6 -y"
      ]
    },
    {
      "cell_type": "code",
      "execution_count": null,
      "metadata": {},
      "outputs": [],
      "source": [
        "%%shell\n",
        "ln -s /usr/local/pkgs/cudnn-7.6.5-cuda10.0_0/lib/libcudnn.so.7 /usr/lib64-nvidia/libcudnn.so.7\n",
        "# echo 'CUDNN_PATH=$(dirname $(python -c \"import nvidia.cudnn;print(nvidia.cudnn.__file__)\"))' >> $CONDA_PREFIX/etc/conda/activate.d/env_vars.sh\n",
        "# echo 'export LD_LIBRARY_PATH=$LD_LIBRARY_PATH:$CONDA_PREFIX/lib/:$CUDNN_PATH/lib' >> $CONDA_PREFIX/etc/conda/activate.d/env_vars.sh\n",
        "eval \"$(conda shell.bash hook)\"\n",
        "conda activate myenv\n",
        "mkdir -p $CONDA_PREFIX/etc/conda/activate.d\n",
        "echo 'CUDNN_PATH=$(dirname $(python -c \"import nvidia.cudnn;print(nvidia.cudnn.__file__)\"))' >> $CONDA_PREFIX/etc/conda/activate.d/env_vars.sh\n",
        "echo 'export LD_LIBRARY_PATH=$LD_LIBRARY_PATH:$CONDA_PREFIX/lib/:$CUDNN_PATH/lib' >> $CONDA_PREFIX/etc/conda/activate.d/env_vars.sh\n",
        "source $CONDA_PREFIX/etc/conda/activate.d/env_vars.sh\n",
        "# Configure the XLA cuda directory\n",
        "mkdir -p $CONDA_PREFIX/etc/conda/activate.d\n",
        "printf 'export XLA_FLAGS=--xla_gpu_cuda_data_dir=$CONDA_PREFIX/lib/\\n' >> $CONDA_PREFIX/etc/conda/activate.d/env_vars.sh\n",
        "source $CONDA_PREFIX/etc/conda/activate.d/env_vars.sh\n",
        "# Copy libdevice file to the required path\n",
        "mkdir -p $CONDA_PREFIX/lib/nvvm/libdevice\n",
        "# cp $CONDA_PREFIX/lib/libdevice.10.bc $CONDA_PREFIX/lib/nvvm/libdevice/"
      ]
    },
    {
      "attachments": {},
      "cell_type": "markdown",
      "metadata": {},
      "source": [
        "## Tensorflow 1.15"
      ]
    },
    {
      "cell_type": "code",
      "execution_count": null,
      "metadata": {
        "id": "mEN4pLUhpmDS"
      },
      "outputs": [],
      "source": [
        "%%shell\n",
        "eval \"$(conda shell.bash hook)\"\n",
        "conda activate myenv\n",
        "pip install --upgrade pip setuptools wheel\n",
        "pip install tensorflow==1.15 keras==2.2.4 h5py==2.10.0 opencv-python==3.2.0.8 matplotlib ipykernel scikit-image"
      ]
    },
    {
      "attachments": {},
      "cell_type": "markdown",
      "metadata": {},
      "source": [
        "## Daedalus Python scripts"
      ]
    },
    {
      "cell_type": "code",
      "execution_count": null,
      "metadata": {},
      "outputs": [],
      "source": [
        "!wget 'https://raw.githubusercontent.com/Lorech/Daedalus/YOLOv3/daedalus.py'\n",
        "!wget 'https://raw.githubusercontent.com/Lorech/Daedalus/YOLOv3/predict.py'\n",
        "!wget 'https://raw.githubusercontent.com/Lorech/Daedalus/YOLOv3/model/yolo.py' -P 'model'"
      ]
    },
    {
      "attachments": {},
      "cell_type": "markdown",
      "metadata": {
        "id": "ph59uN8S9lSd"
      },
      "source": [
        "# Virtual environment execution"
      ]
    },
    {
      "attachments": {},
      "cell_type": "markdown",
      "metadata": {},
      "source": [
        "## Attack execution"
      ]
    },
    {
      "cell_type": "code",
      "execution_count": null,
      "metadata": {
        "colab": {
          "base_uri": "https://localhost:8080/"
        },
        "id": "JJzHSH_19oCz",
        "outputId": "888f9f5c-b5c5-4434-8ed7-d810aeac8a11"
      },
      "outputs": [],
      "source": [
        "%%shell\n",
        "eval \"$(conda shell.bash hook)\"\n",
        "conda activate myenv\n",
        "python3 /content/daedalus.py"
      ]
    },
    {
      "attachments": {},
      "cell_type": "markdown",
      "metadata": {},
      "source": [
        "## Image prediction"
      ]
    },
    {
      "cell_type": "code",
      "execution_count": null,
      "metadata": {},
      "outputs": [],
      "source": [
        "%%shell\n",
        "eval \"$(conda shell.bash hook)\"\n",
        "conda activate myenv\n",
        "python3 /content/predict.py"
      ]
    }
  ],
  "metadata": {
    "colab": {
      "collapsed_sections": [
        "zi3_3WmooAkw",
        "9Z1sX2urpOCr",
        "zlhtKzVdlJ2U",
        "g4qzQc7om0I7"
      ],
      "provenance": []
    },
    "kernelspec": {
      "display_name": "Python 3",
      "name": "python3"
    },
    "language_info": {
      "name": "python"
    }
  },
  "nbformat": 4,
  "nbformat_minor": 0
}
